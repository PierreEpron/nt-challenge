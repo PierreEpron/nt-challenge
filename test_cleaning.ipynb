{
 "cells": [
  {
   "cell_type": "code",
   "execution_count": 90,
   "id": "aaf68ece",
   "metadata": {},
   "outputs": [],
   "source": [
    "from pathlib import Path\n",
    "from functools import reduce\n",
    "\n",
    "from rasa.shared.nlu.training_data.formats.rasa_yaml import RasaYAMLReader\n",
    "from rasa.shared.nlu.training_data.training_data import TrainingData"
   ]
  },
  {
   "cell_type": "code",
   "execution_count": 91,
   "id": "5f6c4728",
   "metadata": {},
   "outputs": [],
   "source": [
    "data = RasaYAMLReader().reads(Path('.data/nlu_2intents-0.yml').read_text('utf-8'))"
   ]
  },
  {
   "cell_type": "markdown",
   "id": "a3206555",
   "metadata": {},
   "source": [
    "### Keep only contact_service and contact_doctor"
   ]
  },
  {
   "cell_type": "code",
   "execution_count": 92,
   "id": "ee8685f2",
   "metadata": {},
   "outputs": [
    {
     "name": "stdout",
     "output_type": "stream",
     "text": [
      "76/101 examples kept\n"
     ]
    }
   ],
   "source": [
    "INTENT_TO_KEEP = ['contact_service', 'contact_doctor']\n",
    "\n",
    "# Filter examples by intent\n",
    "\n",
    "filtered_examples = list(filter(lambda x: x.data['intent'] in INTENT_TO_KEEP, data.training_examples))\n",
    "print(f'{len(filtered_examples)}/{len(data.training_examples)} examples kept')\n",
    "\n",
    "# Replace currents training_examples\n",
    "\n",
    "data.training_examples.clear()\n",
    "data.training_examples.extend(filtered_examples)"
   ]
  },
  {
   "cell_type": "markdown",
   "id": "0bc16a48",
   "metadata": {},
   "source": [
    "### Remove \"target\" role in entities"
   ]
  },
  {
   "cell_type": "code",
   "execution_count": 93,
   "id": "410c5cba",
   "metadata": {},
   "outputs": [],
   "source": [
    "# For each entity in each example -> remove 'role' key\n",
    "for example in data.training_examples:\n",
    "    for entity in example.data['entities']:\n",
    "        entity.pop('role', '')"
   ]
  },
  {
   "cell_type": "markdown",
   "id": "002f25a6",
   "metadata": {},
   "source": [
    "### Add service and doctor lookup tables from training data"
   ]
  },
  {
   "cell_type": "code",
   "execution_count": 96,
   "id": "a49e4df3",
   "metadata": {},
   "outputs": [],
   "source": [
    "# Load train nlu file\n",
    "train_data = RasaYAMLReader().reads(Path('data/2intents-0/nlu.yml').read_text('utf-8'))\n",
    "\n",
    "# Set lookup_tables\n",
    "data.lookup_tables = train_data.lookup_tables"
   ]
  },
  {
   "cell_type": "markdown",
   "id": "8f207f5c",
   "metadata": {},
   "source": [
    "### Save result as test file"
   ]
  },
  {
   "cell_type": "code",
   "execution_count": 97,
   "id": "daec965f",
   "metadata": {},
   "outputs": [],
   "source": [
    "data.persist_nlu('tests/nlu_2intents-0.yml')"
   ]
  },
  {
   "cell_type": "code",
   "execution_count": null,
   "id": "abcb0343",
   "metadata": {},
   "outputs": [],
   "source": []
  }
 ],
 "metadata": {
  "kernelspec": {
   "display_name": "Python 3 (ipykernel)",
   "language": "python",
   "name": "python3"
  },
  "language_info": {
   "codemirror_mode": {
    "name": "ipython",
    "version": 3
   },
   "file_extension": ".py",
   "mimetype": "text/x-python",
   "name": "python",
   "nbconvert_exporter": "python",
   "pygments_lexer": "ipython3",
   "version": "3.8.10"
  }
 },
 "nbformat": 4,
 "nbformat_minor": 5
}
