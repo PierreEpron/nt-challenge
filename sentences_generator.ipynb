{
 "cells": [
  {
   "cell_type": "code",
   "execution_count": 1,
   "id": "a98f1c4f",
   "metadata": {},
   "outputs": [],
   "source": [
    "from typing import List\n",
    "from pathlib import Path\n",
    "import pandas as pd\n",
    "import random\n",
    "\n",
    "from rasa.shared.nlu.training_data.formats.rasa_yaml import RasaYAMLReader\n",
    "from rasa.shared.nlu.training_data.training_data import TrainingData\n",
    "from rasa.shared.nlu.training_data.entities_parser import parse_training_example"
   ]
  },
  {
   "cell_type": "markdown",
   "id": "eb798ea3",
   "metadata": {},
   "source": [
    "### Load Entities"
   ]
  },
  {
   "cell_type": "code",
   "execution_count": 2,
   "id": "cd56bf32",
   "metadata": {},
   "outputs": [],
   "source": [
    "entities = pd.read_csv('.data/entities.csv')\n",
    "doctors = entities[entities['type'] == 'doctor']['label'].values\n",
    "services = entities[entities['type'] == 'service']['label'].values"
   ]
  },
  {
   "cell_type": "markdown",
   "id": "0ac86b4f",
   "metadata": {},
   "source": [
    "### Helpers"
   ]
  },
  {
   "cell_type": "code",
   "execution_count": 3,
   "id": "a2c5dcea",
   "metadata": {},
   "outputs": [],
   "source": [
    "def parse_entity(value : str, label : str) -> str:\n",
    "    \"\"\"\n",
    "        Shortcut for add entity to examples sentences.\n",
    "        \n",
    "        Parameters\n",
    "        ----------\n",
    "        value : str\n",
    "            Entity value.\n",
    "        label : str\n",
    "            Entity label.\n",
    "        \n",
    "        Return\n",
    "        ------\n",
    "        str\n",
    "            Well formated entity.\n",
    "        \n",
    "        Examples\n",
    "        -------- \n",
    "        >>> parse_entity('paris', 'loc')\n",
    "        [paris](loc)\n",
    "    \"\"\"\n",
    "    \n",
    "    return f'[{value}]({label})'\n",
    "\n",
    "def parse_entities(values : List[str], label : str) -> List[str]:\n",
    "    \"\"\"\n",
    "        Shortcut to apply ''parse_entity'' on a ''values'' list with a single ''label''. \n",
    "        \n",
    "        \n",
    "        Parameters\n",
    "        ----------\n",
    "        values : str\n",
    "            List of entities values.\n",
    "        label : str\n",
    "            Entities label to apply.\n",
    "                \n",
    "        Return\n",
    "        ------\n",
    "        List[str]\n",
    "            Well formated entities.        \n",
    "    \"\"\"\n",
    "    \n",
    "    return [parse_entity(value, label) for value in values]"
   ]
  },
  {
   "cell_type": "code",
   "execution_count": 4,
   "id": "1960bf3f",
   "metadata": {},
   "outputs": [],
   "source": [
    "def generate_sents(sent : str, parts : List[List[str]], output : List[str]) -> None:\n",
    "    \"\"\"\n",
    "    Generate sentences based on multiple parts lists.\n",
    "\n",
    "    This is a recursive function. For each parts list, add each parts to the base sentence. \n",
    "    If it's the last parts list, add result to output.\n",
    "    Else, call this function with new base sentence and updated parts list (removing the used list).\n",
    "\n",
    "    Parameters\n",
    "    ----------\n",
    "    sent : str\n",
    "        Base sentence. Start with empty string, recursivly get improved by each part.\n",
    "    parts : list[list[str]]\n",
    "        The multiple list of parts wich will improve recursivly the base sentence.\n",
    "    output : list[str]\n",
    "        Final sentences list. Get filled during the recursive process.\n",
    "\n",
    "    \"\"\"\n",
    "    \n",
    "    # if there is only 1 parts list remaning\n",
    "    if len(parts) == 1:\n",
    "         # for each part concat with base sentence and add it to output\n",
    "        for part in parts[0]:\n",
    "            output.append(f'{sent} {part}'.strip())            \n",
    "    # if there is more than 1 parts list remaning\n",
    "    else:\n",
    "        # for each part concat with base sentence and call this function with new base sentence and updated parts list\n",
    "        for part in parts[0]:\n",
    "            generate_sents(f'{sent} {part}', parts[1:], output)"
   ]
  },
  {
   "cell_type": "markdown",
   "id": "3b76e6a9",
   "metadata": {},
   "source": [
    "### Conjugate verbs"
   ]
  },
  {
   "cell_type": "code",
   "execution_count": 5,
   "id": "55831aae",
   "metadata": {},
   "outputs": [],
   "source": [
    "from bs4 import BeautifulSoup\n",
    "import requests\n",
    "import re\n",
    "\n",
    "mode_temps = ['Indicative_Present', 'Indicative_Imperfect', 'Conditional_Present', 'Conditional_First past']\n",
    "pronoms = [0, 2, 3, 5]\n",
    "\n",
    "def is_bloc(tag):\n",
    "    return tag.has_attr('class') and ('modeBloc' in tag.attrs['class'] or 'conjugBloc' in tag.attrs['class'])\n",
    "\n",
    "def get_verb_conjugate(verb):\n",
    "    sents = []\n",
    "    res = requests.get(f'https://leconjugueur.lefigaro.fr/french/verb/{verb}.html')\n",
    "    print(f'{verb} : {res.status_code}')\n",
    "    soup = BeautifulSoup(res.text)\n",
    "    mode = ''\n",
    "    for tag in soup.find_all(is_bloc):\n",
    "        if 'modeBloc' in tag.attrs['class']:\n",
    "            mode = tag.text\n",
    "        else:\n",
    "            temps = tag.find('div', attrs={'class':'tempsBloc'})\n",
    "            if temps and f'{mode}_{temps.text}' in mode_temps:\n",
    "                text = list(tag.children)[1]\n",
    "                text = re.sub(r'<\\/?(b|p)>', '', str(text))\n",
    "                sents += [sent for i, sent in enumerate(text.split('<br/>')) if i in pronoms]\n",
    "    return sents\n",
    "            "
   ]
  },
  {
   "cell_type": "code",
   "execution_count": 6,
   "id": "b4d35f41",
   "metadata": {},
   "outputs": [
    {
     "name": "stdout",
     "output_type": "stream",
     "text": [
      "demander : 200\n",
      "vouloir : 200\n",
      "reclamer : 200\n",
      "aimer : 200\n",
      "desirer : 200\n",
      "aspirer : 200\n",
      "esperer : 200\n",
      "exiger : 200\n",
      "souhaiter : 200\n",
      "rever : 200\n"
     ]
    }
   ],
   "source": [
    "infinitive_verbs = ['demander', 'vouloir', 'reclamer', 'aimer', 'desirer', 'aspirer', 'esperer', 'exiger', 'souhaiter', 'rever']\n",
    "\n",
    "verbs = {}\n",
    "for verb in infinitive_verbs:\n",
    "    verbs[verb] = get_verb_conjugate(verb)"
   ]
  },
  {
   "cell_type": "markdown",
   "id": "108589a9",
   "metadata": {},
   "source": [
    "### Generate doctor sents"
   ]
  },
  {
   "cell_type": "raw",
   "id": "4e6fd6ef",
   "metadata": {},
   "source": [
    "je demande à parler\n",
    "je reclame de causer\n",
    "j'exige de causer\n",
    "je reve de causer\n",
    "contacts = ['m\\'adresser',\n",
    "            'discuter avec le', 'converser avec le', 'm\\'entretenir avec', 'dialoguer avec',\n",
    "            'joindre', 'avoir', 'que vous me passiez']"
   ]
  },
  {
   "cell_type": "code",
   "execution_count": 7,
   "id": "866d2bf9",
   "metadata": {},
   "outputs": [],
   "source": [
    "wants = []\n",
    "for verb in ['vouloir', 'aimer', 'desirer', 'aspirer', 'souhaiter', 'esperer']:\n",
    "    wants += verbs[verb]\n",
    "\n",
    "for verb in ['reclamer', 'exiger', 'rever']:\n",
    "    wants += [f'{v} de' for v in verbs[verb]]\n",
    "    \n",
    "for verb in ['demander']:\n",
    "    wants += [f'{v} à' for v in verbs[verb]]\n",
    "    \n",
    "\n",
    "contacts = ['parler', 'causer', 'telephoner'] \n",
    "wichs = ['avec le docteur', 'avec la docteur', 'au docteur', \n",
    " 'avec le médecin', 'avec la médecin', 'au médecin',\n",
    " 'avec Mr', 'avec Mme', 'à Monsieur', 'à Madame',\n",
    " 'à Mr', 'à Mme', 'à Monsieur', 'à Madame']\n",
    "targets = parse_entities([doc.split()[0] for doc in doctors] + [doc for doc in doctors], 'doctor')"
   ]
  },
  {
   "cell_type": "code",
   "execution_count": 9,
   "id": "27f376c9",
   "metadata": {},
   "outputs": [
    {
     "data": {
      "text/plain": [
       "403200"
      ]
     },
     "execution_count": 9,
     "metadata": {},
     "output_type": "execute_result"
    }
   ],
   "source": [
    "doctor_sents = []\n",
    "generate_sents('', [wants, contacts, wichs, targets], doctor_sents)\n",
    "len(doctor_sents)"
   ]
  },
  {
   "cell_type": "code",
   "execution_count": 10,
   "id": "4cea93af",
   "metadata": {},
   "outputs": [
    {
     "data": {
      "text/plain": [
       "['il rêvait de parler à Madame [ALONSO Enrique](doctor)',\n",
       " 'il veut parler à Madame [BRYON Dominique](doctor)',\n",
       " 'il espère parler au docteur [BENSAID Cherazade](doctor)',\n",
       " 'je souhaitais parler à Madame [BRUNET](doctor)',\n",
       " 'je rêve de telephoner à Mr [BRUNET](doctor)',\n",
       " 'je réclamerais de causer à Mme [BENSAID](doctor)',\n",
       " 'nous espérons parler à Mme [BAUER Bertrand](doctor)',\n",
       " 'ils exigeraient de parler au médecin [BENSAID](doctor)',\n",
       " \"j'aurais réclamé de parler au docteur [BADO Fabrice](doctor)\",\n",
       " \"j'aurais aimé causer avec le docteur [BRUNET](doctor)\",\n",
       " \"j'aurais demandé à causer à Madame [ALONSO](doctor)\",\n",
       " 'nous rêvons de causer à Monsieur [BRUNET](doctor)',\n",
       " 'il réclamait de causer avec Mme [BELDA Eric](doctor)',\n",
       " 'il souhaiterait telephoner avec Mr [BAUER Bertrand](doctor)',\n",
       " 'nous exigeons de telephoner au médecin [BELMAGHNI Fatma](doctor)',\n",
       " 'ils désireraient parler avec le docteur [ALONSO Enrique](doctor)',\n",
       " 'il voulait causer avec le docteur [BOULET](doctor)',\n",
       " 'ils souhaitent causer avec le médecin [BELMAGHNI](doctor)',\n",
       " 'il rêve de causer avec le docteur [BRYON Dominique](doctor)',\n",
       " 'ils auraient espéré telephoner au médecin [ARISTIZABAL Patrick](doctor)',\n",
       " 'ils auraient demandé à telephoner avec Mr [BORIE Hervé](doctor)',\n",
       " \"j'aimerais causer à Mr [BRUNET Morgan](doctor)\",\n",
       " 'ils demandaient à parler au médecin [APTECAR Eduardo](doctor)',\n",
       " 'je veux telephoner à Mr [BLAVIER Bénédicte](doctor)',\n",
       " 'il aurait souhaité parler à Monsieur [BORIE Hervé](doctor)']"
      ]
     },
     "execution_count": 10,
     "metadata": {},
     "output_type": "execute_result"
    }
   ],
   "source": [
    "rsents = list(doctor_sents)\n",
    "random.shuffle(rsents)\n",
    "rsents[:25]"
   ]
  },
  {
   "cell_type": "markdown",
   "id": "8ed3a543",
   "metadata": {},
   "source": [
    "### Generate service sents"
   ]
  },
  {
   "cell_type": "code",
   "execution_count": 11,
   "id": "19e6b7fa",
   "metadata": {},
   "outputs": [],
   "source": [
    "wichs = ['avec le service', 'au service', \n",
    "         'avec le secrétariat', 'au secrétariat', \n",
    "         'avec le secrétariat du service', 'au secrétariat du service', \n",
    "         'avec l\\'acceuil', 'à l\\'acceuil'\n",
    "         'avec l\\'acceuil du service', 'à l\\'acceuil du service', \n",
    "        ]\n",
    "targets = parse_entities([service.lower() for service in services], 'service')"
   ]
  },
  {
   "cell_type": "code",
   "execution_count": 13,
   "id": "625e8658",
   "metadata": {},
   "outputs": [
    {
     "data": {
      "text/plain": [
       "129600"
      ]
     },
     "execution_count": 13,
     "metadata": {},
     "output_type": "execute_result"
    }
   ],
   "source": [
    "service_sents = []\n",
    "generate_sents('', [wants, contacts, wichs, targets], service_sents)\n",
    "len(service_sents)"
   ]
  },
  {
   "cell_type": "code",
   "execution_count": 14,
   "id": "b473172f",
   "metadata": {},
   "outputs": [
    {
     "data": {
      "text/plain": [
       "['je souhaiterais causer au secrétariat [stomatologie](service)',\n",
       " \"j'aurais souhaité causer au secrétariat du service [accueil](service)\",\n",
       " \"j'aurais réclamé de telephoner avec le service [ressources humaines](service)\",\n",
       " 'ils espèrent causer au secrétariat [rythmologie](service)',\n",
       " 'ils demandaient à causer au service [ophtalmologie](service)',\n",
       " 'nous voulions parler avec le service [orl](service)',\n",
       " \"ils souhaitent causer avec l'acceuil [sophrologie](service)\",\n",
       " \"je demanderais à parler à l'acceuil du service [assistante hôtelière](service)\",\n",
       " 'nous souhaitions causer avec le service [urgence](service)',\n",
       " \"je veux telephoner à l'acceuilavec l'acceuil du service [stomathérapie](service)\",\n",
       " \"j'aime causer au secrétariat du service [pédiatrie](service)\",\n",
       " 'il souhaiterait causer au secrétariat du service [chirurgie vasculaire](service)',\n",
       " \"j'aime causer avec l'acceuil [planification](service)\",\n",
       " 'il exigeait de telephoner au secrétariat du service [orl](service)',\n",
       " \"j'aurais exigé de telephoner au service [soins ambulatoire](service)\",\n",
       " \"j'espère telephoner au service [assistante logistique](service)\",\n",
       " \"j'aurais voulu telephoner au secrétariat [unité de soins continus](service)\",\n",
       " 'il réclamerait de telephoner avec le secrétariat [gastro-entérologie](service)',\n",
       " 'il aimerait parler avec le secrétariat du service [assistante sociale](service)',\n",
       " \"j'aime parler à l'acceuil du service [assistante hôtelière](service)\",\n",
       " 'nous aurions aimé telephoner au service [soins ambulatoire](service)',\n",
       " 'il aurait rêvé de telephoner avec le secrétariat [gastro-entérologie](service)',\n",
       " \"nous aurions souhaité telephoner avec l'acceuil [chirurgie orthopédique](service)\",\n",
       " 'ils désireraient parler avec le secrétariat [rythmologie](service)',\n",
       " \"il aurait voulu parler avec l'acceuil [chirurgie digestive](service)\"]"
      ]
     },
     "execution_count": 14,
     "metadata": {},
     "output_type": "execute_result"
    }
   ],
   "source": [
    "rsents = list(service_sents)\n",
    "random.shuffle(rsents)\n",
    "rsents[:25]"
   ]
  },
  {
   "cell_type": "markdown",
   "id": "0a99ca8b",
   "metadata": {},
   "source": [
    "### Make yaml files"
   ]
  },
  {
   "cell_type": "code",
   "execution_count": 15,
   "id": "a051eca6",
   "metadata": {
    "scrolled": true
   },
   "outputs": [
    {
     "name": "stderr",
     "output_type": "stream",
     "text": [
      "\u001b[93mC:\\Users\\pierr\\Documents\\projets\\nt-challenge\\venv\\lib\\site-packages\\rasa\\shared\\utils\\io.py:99: UserWarning: Training data file  has a lower format version than your Rasa Open Source installation: 3.0 < 3.1. Rasa Open Source will read the file as a version 3.1 file. Please update your version key to 3.1. See https://rasa.com/docs/rasa/training-data-format.\n",
      "\u001b[0m"
     ]
    },
    {
     "data": {
      "text/plain": [
       "[<rasa.shared.nlu.training_data.message.Message at 0x247adadc6a0>,\n",
       " <rasa.shared.nlu.training_data.message.Message at 0x247ae485640>,\n",
       " <rasa.shared.nlu.training_data.message.Message at 0x247ae4908b0>]"
      ]
     },
     "execution_count": 15,
     "metadata": {},
     "output_type": "execute_result"
    }
   ],
   "source": [
    "data = RasaYAMLReader().reads(Path('.data/nlu.yml').read_text('utf-8'))\n",
    "data.intent_examples"
   ]
  },
  {
   "cell_type": "code",
   "execution_count": 16,
   "id": "ede0f794",
   "metadata": {},
   "outputs": [],
   "source": [
    "data.lookup_tables[0]['elements'] = list(services)"
   ]
  },
  {
   "cell_type": "code",
   "execution_count": 17,
   "id": "7188ca6c",
   "metadata": {},
   "outputs": [],
   "source": [
    "data.lookup_tables[1]['elements'] = list([doc.split()[0] for doc in doctors] + [doc for doc in doctors])"
   ]
  },
  {
   "cell_type": "code",
   "execution_count": 18,
   "id": "a8a2d035",
   "metadata": {},
   "outputs": [],
   "source": [
    "data.training_examples.clear()"
   ]
  },
  {
   "cell_type": "code",
   "execution_count": 19,
   "id": "a44fa137",
   "metadata": {},
   "outputs": [],
   "source": [
    "service_rsents = list(service_sents)\n",
    "random.shuffle(service_rsents)"
   ]
  },
  {
   "cell_type": "code",
   "execution_count": 20,
   "id": "d7e3ac9d",
   "metadata": {},
   "outputs": [],
   "source": [
    "for sent in service_rsents[:10000]:\n",
    "    data.training_examples.append(parse_training_example(sent, 'contact_service'))"
   ]
  },
  {
   "cell_type": "code",
   "execution_count": 21,
   "id": "e43327cc",
   "metadata": {},
   "outputs": [],
   "source": [
    "doctor_rsents = list(doctor_sents)\n",
    "random.shuffle(doctor_rsents)"
   ]
  },
  {
   "cell_type": "code",
   "execution_count": 22,
   "id": "ea5d309f",
   "metadata": {},
   "outputs": [],
   "source": [
    "for sent in doctor_rsents[:10000]:\n",
    "    data.training_examples.append(parse_training_example(sent, 'contact_doctor'))"
   ]
  },
  {
   "cell_type": "code",
   "execution_count": 23,
   "id": "112af46b",
   "metadata": {},
   "outputs": [],
   "source": [
    "data.persist_nlu('data/nlu_0.yml')"
   ]
  },
  {
   "cell_type": "code",
   "execution_count": null,
   "id": "b595ce93",
   "metadata": {},
   "outputs": [],
   "source": []
  },
  {
   "cell_type": "code",
   "execution_count": null,
   "id": "665ca64d",
   "metadata": {},
   "outputs": [],
   "source": [
    " "
   ]
  }
 ],
 "metadata": {
  "kernelspec": {
   "display_name": "Python 3 (ipykernel)",
   "language": "python",
   "name": "python3"
  },
  "language_info": {
   "codemirror_mode": {
    "name": "ipython",
    "version": 3
   },
   "file_extension": ".py",
   "mimetype": "text/x-python",
   "name": "python",
   "nbconvert_exporter": "python",
   "pygments_lexer": "ipython3",
   "version": "3.8.10"
  }
 },
 "nbformat": 4,
 "nbformat_minor": 5
}
