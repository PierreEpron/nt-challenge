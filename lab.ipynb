{
 "cells": [
  {
   "cell_type": "code",
   "execution_count": 173,
   "id": "a98f1c4f",
   "metadata": {},
   "outputs": [],
   "source": [
    "import pandas as pd\n",
    "import random\n",
    "import functools\n",
    "import itertools"
   ]
  },
  {
   "cell_type": "code",
   "execution_count": 6,
   "id": "23325eae",
   "metadata": {},
   "outputs": [],
   "source": [
    "results = {}\n",
    "\n",
    "def add_result(k, sents, score=0):\n",
    "    results.update({k: {'sents':sents, 'score':score}})"
   ]
  },
  {
   "cell_type": "code",
   "execution_count": 7,
   "id": "cd56bf32",
   "metadata": {},
   "outputs": [],
   "source": [
    "entities = pd.read_csv('.data/entities.csv')\n",
    "docs = entities[entities['type'] == 'doctor']['label'].values\n",
    "services = entities[entities['type'] == 'service']['label'].values"
   ]
  },
  {
   "cell_type": "code",
   "execution_count": 157,
   "id": "03c15aca",
   "metadata": {},
   "outputs": [],
   "source": [
    "from bs4 import BeautifulSoup\n",
    "import requests\n",
    "import re\n",
    "\n",
    "mode_temps = ['Indicative_Present', 'Indicative_Imperfect', 'Conditional_Present', 'Conditional_First past']\n",
    "pronoms = [0, 2, 3, 5]\n",
    "\n",
    "def is_bloc(tag):\n",
    "    return tag.has_attr('class') and ('modeBloc' in tag.attrs['class'] or 'conjugBloc' in tag.attrs['class'])\n",
    "\n",
    "def get_verb_conjugate(verb):\n",
    "    sents = []\n",
    "    res = requests.get(f'https://leconjugueur.lefigaro.fr/french/verb/{verb}.html')\n",
    "    print(f'{verb} : {res.status_code}')\n",
    "    soup = BeautifulSoup(res.text)\n",
    "    mode = ''\n",
    "    for tag in soup.find_all(is_bloc):\n",
    "        if 'modeBloc' in tag.attrs['class']:\n",
    "            mode = tag.text\n",
    "        else:\n",
    "            temps = tag.find('div', attrs={'class':'tempsBloc'})\n",
    "            if temps and f'{mode}_{temps.text}' in mode_temps:\n",
    "                text = list(tag.children)[1]\n",
    "                text = re.sub(r'<\\/?(b|p)>', '', str(text))\n",
    "                sents += [sent for i, sent in enumerate(text.split('<br/>')) if i in pronoms]\n",
    "    return sents\n",
    "            "
   ]
  },
  {
   "cell_type": "code",
   "execution_count": 182,
   "id": "41b0be3a",
   "metadata": {},
   "outputs": [
    {
     "name": "stdout",
     "output_type": "stream",
     "text": [
      "demander : 200\n",
      "vouloir : 200\n",
      "reclamer : 200\n",
      "aimer : 200\n",
      "desirer : 200\n",
      "aspirer : 200\n",
      "esperer : 200\n",
      "exiger : 200\n",
      "souhaiter : 200\n",
      "rever : 200\n"
     ]
    }
   ],
   "source": [
    "infinitive_verbs = ['demander', 'vouloir', 'reclamer', 'aimer', 'desirer', 'aspirer', 'esperer', 'exiger', 'souhaiter', 'rever']\n",
    "\n",
    "verbs = {}\n",
    "for verb in infinitive_verbs:\n",
    "    verbs[verb] = get_verb_conjugate(verb)"
   ]
  },
  {
   "cell_type": "raw",
   "id": "b8f85a60",
   "metadata": {},
   "source": [
    "je demande à parler\n",
    "je reclame de causer\n",
    "j'exige de causer\n",
    "je reve de causer"
   ]
  },
  {
   "cell_type": "markdown",
   "id": "a43ff112",
   "metadata": {},
   "source": [
    "contacts = ['m\\'adresser',\n",
    "            'discuter avec le', 'converser avec le', 'm\\'entretenir avec', 'dialoguer avec',\n",
    "            'joindre', 'avoir', 'que vous me passiez']\n"
   ]
  },
  {
   "cell_type": "code",
   "execution_count": 194,
   "id": "866d2bf9",
   "metadata": {},
   "outputs": [],
   "source": [
    "wants = []\n",
    "for verb in ['vouloir', 'aimer', 'desirer', 'aspirer', 'souhaiter', 'esperer']:\n",
    "    wants += verbs[verb]\n",
    "\n",
    "for verb in ['reclamer', 'exiger', 'rever']:\n",
    "    wants += [f'{v} de' for v in verbs[verb]]\n",
    "    \n",
    "for verb in ['demander']:\n",
    "    wants += [f'{v} à' for v in verbs[verb]]\n",
    "    \n",
    "\n",
    "contacts = ['parler', 'causer', 'telephoner'] \n",
    "wichs = ['avec le docteur', 'avec la docteur', 'au docteur', \n",
    " 'avec le médecin', 'avec la médecin', 'au médecin',\n",
    " 'avec Mr', 'avec Mme', 'à Monsieur', 'à Madame',\n",
    " 'à Mr', 'à Mme', 'à Monsieur', 'à Madame']\n",
    "targets = [doc.split()[0] for doc in docs] + [doc for doc in docs]\n"
   ]
  },
  {
   "cell_type": "code",
   "execution_count": 195,
   "id": "27f376c9",
   "metadata": {},
   "outputs": [
    {
     "data": {
      "text/plain": [
       "403200"
      ]
     },
     "execution_count": 195,
     "metadata": {},
     "output_type": "execute_result"
    }
   ],
   "source": [
    "sents = []\n",
    "for want in wants:\n",
    "    for contact in contacts:\n",
    "        for wich in wichs:\n",
    "            for target in targets:\n",
    "                sents.append(f'{want} {contact} {wich} {target}')\n",
    "len(sents)"
   ]
  },
  {
   "cell_type": "code",
   "execution_count": 196,
   "id": "4cea93af",
   "metadata": {
    "collapsed": true
   },
   "outputs": [
    {
     "data": {
      "text/plain": [
       "['je rêve de parler à Mme AL',\n",
       " 'ils souhaiteraient causer au médecin BLIN',\n",
       " 'nous réclamons de causer à Mr BADO',\n",
       " 'il aurait désiré causer à Mr BAUER',\n",
       " 'ils exigeaient de telephoner à Mr CADOT Bernard',\n",
       " \"j'aimerais telephoner à Monsieur BENHAMOU\",\n",
       " 'ils réclameraient de telephoner avec Mme BRYON Dominique',\n",
       " 'il aurait réclamé de causer avec Mr ABOAB',\n",
       " 'je veux causer à Mr BORIE',\n",
       " 'nous aurions rêvé de telephoner au docteur ALLARD',\n",
       " 'nous désirerions parler avec la médecin BRUN Laurent',\n",
       " \"j'aurais demandé à telephoner avec la médecin BLAVIER Bénédicte\",\n",
       " 'il souhaite causer au médecin ABOAB Jennifer',\n",
       " 'nous aimons parler avec la médecin BRUN',\n",
       " \"j'aimerais causer à Monsieur BADO\",\n",
       " 'je voulais telephoner à Mr BENHAMOU Claude',\n",
       " 'nous aspirerions parler à Madame ALLARD Anne',\n",
       " 'il souhaiterait causer avec le médecin ABOUCAYA Jean-Paul',\n",
       " 'nous aurions demandé à telephoner avec le médecin ABOAB Jennifer',\n",
       " 'nous réclamions de parler à Mr BLIN Jean-Louis',\n",
       " 'je voudrais telephoner à Mme BRUNET',\n",
       " 'nous rêvons de telephoner avec le docteur BENSAID',\n",
       " 'il réclame de telephoner avec Mr BLAVIER',\n",
       " 'il aspirerait causer avec le docteur BLIN Jean-Louis',\n",
       " 'ils aspireraient causer à Madame ABOAB']"
      ]
     },
     "execution_count": 196,
     "metadata": {},
     "output_type": "execute_result"
    }
   ],
   "source": [
    "rsents = list(sents)\n",
    "random.shuffle(rsents)\n",
    "rsents[:25]"
   ]
  },
  {
   "cell_type": "code",
   "execution_count": null,
   "id": "8b4bc4f4",
   "metadata": {},
   "outputs": [],
   "source": []
  },
  {
   "cell_type": "code",
   "execution_count": null,
   "id": "625e8658",
   "metadata": {},
   "outputs": [],
   "source": []
  },
  {
   "cell_type": "code",
   "execution_count": null,
   "id": "7df1de65",
   "metadata": {},
   "outputs": [],
   "source": []
  }
 ],
 "metadata": {
  "kernelspec": {
   "display_name": "Python 3 (ipykernel)",
   "language": "python",
   "name": "python3"
  },
  "language_info": {
   "codemirror_mode": {
    "name": "ipython",
    "version": 3
   },
   "file_extension": ".py",
   "mimetype": "text/x-python",
   "name": "python",
   "nbconvert_exporter": "python",
   "pygments_lexer": "ipython3",
   "version": "3.8.10"
  }
 },
 "nbformat": 4,
 "nbformat_minor": 5
}
