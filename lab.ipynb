{
 "cells": [
  {
   "cell_type": "code",
   "execution_count": 1,
   "id": "a98f1c4f",
   "metadata": {},
   "outputs": [],
   "source": [
    "from pathlib import Path\n",
    "import pandas as pd\n",
    "import random\n",
    "\n",
    "from rasa.shared.nlu.training_data.formats.rasa_yaml import RasaYAMLReader\n",
    "from rasa.shared.nlu.training_data.training_data import TrainingData\n",
    "from rasa.shared.nlu.training_data.entities_parser import parse_training_example"
   ]
  },
  {
   "cell_type": "markdown",
   "id": "eb798ea3",
   "metadata": {},
   "source": [
    "### Load Entities"
   ]
  },
  {
   "cell_type": "code",
   "execution_count": 2,
   "id": "cd56bf32",
   "metadata": {},
   "outputs": [],
   "source": [
    "entities = pd.read_csv('.data/entities.csv')\n",
    "docs = entities[entities['type'] == 'doctor']['label'].values\n",
    "services = entities[entities['type'] == 'service']['label'].values"
   ]
  },
  {
   "cell_type": "markdown",
   "id": "0ac86b4f",
   "metadata": {},
   "source": [
    "### Helpers"
   ]
  },
  {
   "cell_type": "code",
   "execution_count": 3,
   "id": "34ac5648",
   "metadata": {},
   "outputs": [],
   "source": [
    "def parse_examples(examples):\n",
    "    return''.join([f'- {e}\\n' for e in examples])"
   ]
  },
  {
   "cell_type": "code",
   "execution_count": 4,
   "id": "70270384",
   "metadata": {},
   "outputs": [],
   "source": [
    "def parse_entity(value, label):\n",
    "    return f'[{value}]({label})'\n",
    "\n",
    "def parse_entities(values, label):\n",
    "    return [parse_entity(value, label) for value in values]"
   ]
  },
  {
   "cell_type": "code",
   "execution_count": 5,
   "id": "1960bf3f",
   "metadata": {},
   "outputs": [],
   "source": [
    "def generate_sents(sent, parts, sents):\n",
    "    if len(parts) == 1:\n",
    "        for part in parts[0]:\n",
    "            sents.append(f'{sent} {part}'.strip())            \n",
    "    else:\n",
    "        for part in parts[0]:\n",
    "            generate_sents(f'{sent} {part}', parts[1:], sents)"
   ]
  },
  {
   "cell_type": "markdown",
   "id": "3b76e6a9",
   "metadata": {},
   "source": [
    "### Conjugate verbs"
   ]
  },
  {
   "cell_type": "code",
   "execution_count": 6,
   "id": "55831aae",
   "metadata": {},
   "outputs": [],
   "source": [
    "from bs4 import BeautifulSoup\n",
    "import requests\n",
    "import re\n",
    "\n",
    "mode_temps = ['Indicative_Present', 'Indicative_Imperfect', 'Conditional_Present', 'Conditional_First past']\n",
    "pronoms = [0, 2, 3, 5]\n",
    "\n",
    "def is_bloc(tag):\n",
    "    return tag.has_attr('class') and ('modeBloc' in tag.attrs['class'] or 'conjugBloc' in tag.attrs['class'])\n",
    "\n",
    "def get_verb_conjugate(verb):\n",
    "    sents = []\n",
    "    res = requests.get(f'https://leconjugueur.lefigaro.fr/french/verb/{verb}.html')\n",
    "    print(f'{verb} : {res.status_code}')\n",
    "    soup = BeautifulSoup(res.text)\n",
    "    mode = ''\n",
    "    for tag in soup.find_all(is_bloc):\n",
    "        if 'modeBloc' in tag.attrs['class']:\n",
    "            mode = tag.text\n",
    "        else:\n",
    "            temps = tag.find('div', attrs={'class':'tempsBloc'})\n",
    "            if temps and f'{mode}_{temps.text}' in mode_temps:\n",
    "                text = list(tag.children)[1]\n",
    "                text = re.sub(r'<\\/?(b|p)>', '', str(text))\n",
    "                sents += [sent for i, sent in enumerate(text.split('<br/>')) if i in pronoms]\n",
    "    return sents\n",
    "            "
   ]
  },
  {
   "cell_type": "code",
   "execution_count": 7,
   "id": "b4d35f41",
   "metadata": {},
   "outputs": [
    {
     "name": "stdout",
     "output_type": "stream",
     "text": [
      "demander : 200\n",
      "vouloir : 200\n",
      "reclamer : 200\n",
      "aimer : 200\n",
      "desirer : 200\n",
      "aspirer : 200\n",
      "esperer : 200\n",
      "exiger : 200\n",
      "souhaiter : 200\n",
      "rever : 200\n"
     ]
    }
   ],
   "source": [
    "infinitive_verbs = ['demander', 'vouloir', 'reclamer', 'aimer', 'desirer', 'aspirer', 'esperer', 'exiger', 'souhaiter', 'rever']\n",
    "\n",
    "verbs = {}\n",
    "for verb in infinitive_verbs:\n",
    "    verbs[verb] = get_verb_conjugate(verb)"
   ]
  },
  {
   "cell_type": "markdown",
   "id": "108589a9",
   "metadata": {},
   "source": [
    "### Generate doctor sents"
   ]
  },
  {
   "cell_type": "raw",
   "id": "4e6fd6ef",
   "metadata": {},
   "source": [
    "je demande à parler\n",
    "je reclame de causer\n",
    "j'exige de causer\n",
    "je reve de causer\n",
    "contacts = ['m\\'adresser',\n",
    "            'discuter avec le', 'converser avec le', 'm\\'entretenir avec', 'dialoguer avec',\n",
    "            'joindre', 'avoir', 'que vous me passiez']"
   ]
  },
  {
   "cell_type": "code",
   "execution_count": 8,
   "id": "866d2bf9",
   "metadata": {},
   "outputs": [],
   "source": [
    "wants = []\n",
    "for verb in ['vouloir', 'aimer', 'desirer', 'aspirer', 'souhaiter', 'esperer']:\n",
    "    wants += verbs[verb]\n",
    "\n",
    "for verb in ['reclamer', 'exiger', 'rever']:\n",
    "    wants += [f'{v} de' for v in verbs[verb]]\n",
    "    \n",
    "for verb in ['demander']:\n",
    "    wants += [f'{v} à' for v in verbs[verb]]\n",
    "    \n",
    "\n",
    "contacts = ['parler', 'causer', 'telephoner'] \n",
    "wichs = ['avec le docteur', 'avec la docteur', 'au docteur', \n",
    " 'avec le médecin', 'avec la médecin', 'au médecin',\n",
    " 'avec Mr', 'avec Mme', 'à Monsieur', 'à Madame',\n",
    " 'à Mr', 'à Mme', 'à Monsieur', 'à Madame']\n",
    "targets = parse_entities([doc.split()[0] for doc in docs] + [doc for doc in docs], 'doctor')"
   ]
  },
  {
   "cell_type": "code",
   "execution_count": 9,
   "id": "27f376c9",
   "metadata": {},
   "outputs": [
    {
     "data": {
      "text/plain": [
       "403200"
      ]
     },
     "execution_count": 9,
     "metadata": {},
     "output_type": "execute_result"
    }
   ],
   "source": [
    "doctor_sents = []\n",
    "generate_sents('', [wants, contacts, wichs, targets], doctor_sents)\n",
    "len(doctor_sents)"
   ]
  },
  {
   "cell_type": "code",
   "execution_count": 10,
   "id": "4cea93af",
   "metadata": {},
   "outputs": [
    {
     "data": {
      "text/plain": [
       "['il exigerait de causer à Madame [AL MOUSSARIH Abdallah](doctor)',\n",
       " 'ils souhaitent telephoner au médecin [BOULET Stéphane](doctor)',\n",
       " 'nous exigeons de telephoner à Madame [BOUCHAREB](doctor)',\n",
       " 'ils auraient aimé causer avec la docteur [ARISTIZABAL Patrick](doctor)',\n",
       " \"j'aurais rêvé de causer avec le médecin [ABOAB](doctor)\",\n",
       " 'ils auraient demandé à parler avec Mme [ALLARD](doctor)',\n",
       " 'ils auraient aimé telephoner avec Mr [BRYON](doctor)',\n",
       " 'ils souhaiteraient parler à Madame [BENSAID](doctor)',\n",
       " 'ils auraient aspiré parler avec Mr [BELMAGHNI Fatma](doctor)',\n",
       " 'nous exigerions de telephoner à Monsieur [BELDA Eric](doctor)',\n",
       " 'nous réclamons de telephoner avec la médecin [BRUN Magali](doctor)',\n",
       " \"j'aurais voulu telephoner avec le docteur [BENOUAICHE Laurence](doctor)\",\n",
       " 'il exigerait de parler avec le docteur [BENOSMAN Hedi](doctor)',\n",
       " 'ils auraient aimé parler avec Mme [ARISTIZABAL](doctor)',\n",
       " 'ils auraient réclamé de causer à Madame [BLIN](doctor)',\n",
       " 'ils auraient réclamé de telephoner à Madame [BELDA](doctor)',\n",
       " 'ils rêvent de parler avec la médecin [BRUN Laurent](doctor)',\n",
       " 'nous espérerions causer avec Mme [BOULET Stéphane](doctor)',\n",
       " 'nous aurions rêvé de causer au médecin [BENSAID](doctor)',\n",
       " 'nous réclamions de telephoner à Madame [BENHAMOU](doctor)',\n",
       " 'ils désiraient causer avec la docteur [BENSAID](doctor)',\n",
       " 'nous espérions telephoner à Monsieur [BENOSMAN Hedi](doctor)',\n",
       " \"j'espère causer avec le docteur [ALONSO](doctor)\",\n",
       " \"j'aurais aimé parler avec le docteur [BLAVIER Bénédicte](doctor)\",\n",
       " \"j'espérais telephoner avec Mr [BADO Fabrice](doctor)\"]"
      ]
     },
     "execution_count": 10,
     "metadata": {},
     "output_type": "execute_result"
    }
   ],
   "source": [
    "rsents = list(doctor_sents)\n",
    "random.shuffle(rsents)\n",
    "rsents[:25]"
   ]
  },
  {
   "cell_type": "markdown",
   "id": "8ed3a543",
   "metadata": {},
   "source": [
    "### Generate service sents"
   ]
  },
  {
   "cell_type": "code",
   "execution_count": 11,
   "id": "19e6b7fa",
   "metadata": {},
   "outputs": [],
   "source": [
    "wichs = ['avec le service', 'au service', \n",
    "         'avec le secrétariat', 'au secrétariat', \n",
    "         'avec le secrétariat du service', 'au secrétariat du service', \n",
    "         'avec l\\'acceuil', 'à l\\'acceuil'\n",
    "         'avec l\\'acceuil du service', 'à l\\'acceuil du service', \n",
    "        ]\n",
    "targets = parse_entities([service.lower() for service in services], 'service')"
   ]
  },
  {
   "cell_type": "code",
   "execution_count": 12,
   "id": "625e8658",
   "metadata": {},
   "outputs": [
    {
     "data": {
      "text/plain": [
       "129600"
      ]
     },
     "execution_count": 12,
     "metadata": {},
     "output_type": "execute_result"
    }
   ],
   "source": [
    "service_sents = []\n",
    "generate_sents('', [wants, contacts, wichs, targets], service_sents)\n",
    "len(service_sents)"
   ]
  },
  {
   "cell_type": "code",
   "execution_count": 13,
   "id": "b473172f",
   "metadata": {},
   "outputs": [
    {
     "data": {
      "text/plain": [
       "['ils auraient exigé de causer avec le service [rythmologie](service)',\n",
       " \"nous voulions telephoner à l'acceuil du service [gastro-entérologie](service)\",\n",
       " 'il désire parler au secrétariat du service [unité de soins continus](service)',\n",
       " 'il voudrait causer avec le secrétariat du service [rhumatologie](service)',\n",
       " 'nous aurions aimé parler au service [angiographie](service)',\n",
       " \"j'aurais demandé à causer au secrétariat [assistante hôtelière](service)\",\n",
       " \"il veut causer à l'acceuilavec l'acceuil du service [soins ambulatoire](service)\",\n",
       " 'je voulais causer avec le secrétariat du service [urgence](service)',\n",
       " 'il réclamait de parler au secrétariat [biomédical](service)',\n",
       " 'il aimait parler au service [biomédical](service)',\n",
       " 'il aurait aspiré telephoner avec le service [unité de soins continus](service)',\n",
       " 'il souhaite causer au secrétariat du service [chirurgie viscérale](service)',\n",
       " \"ils souhaitaient causer à l'acceuil du service [ressources humaines](service)\",\n",
       " 'nous aurions désiré causer au service [oncologie](service)',\n",
       " 'ils auraient demandé à parler avec le secrétariat du service [chirurgie de la main](service)',\n",
       " 'il réclame de causer avec le secrétariat [ophtalmologie](service)',\n",
       " \"nous souhaitons telephoner à l'acceuilavec l'acceuil du service [orl](service)\",\n",
       " 'nous aimerions causer au secrétariat du service [biomédical](service)',\n",
       " 'nous réclamerions de telephoner avec le secrétariat du service [angiographie](service)',\n",
       " \"nous réclamions de causer à l'acceuil du service [orl](service)\",\n",
       " 'nous souhaitons causer au secrétariat du service [angiographie](service)',\n",
       " 'nous demandions à telephoner avec le service [stomatologie](service)',\n",
       " \"nous demanderions à telephoner à l'acceuilavec l'acceuil du service [scintigraphie](service)\",\n",
       " 'ils demanderaient à causer au service [sophrologie](service)',\n",
       " 'ils désirent causer au secrétariat du service [planification](service)']"
      ]
     },
     "execution_count": 13,
     "metadata": {},
     "output_type": "execute_result"
    }
   ],
   "source": [
    "rsents = list(service_sents)\n",
    "random.shuffle(rsents)\n",
    "rsents[:25]"
   ]
  },
  {
   "cell_type": "markdown",
   "id": "0a99ca8b",
   "metadata": {},
   "source": [
    "### Make yaml files"
   ]
  },
  {
   "cell_type": "code",
   "execution_count": 14,
   "id": "a051eca6",
   "metadata": {
    "scrolled": true
   },
   "outputs": [
    {
     "name": "stderr",
     "output_type": "stream",
     "text": [
      "\u001b[93mC:\\Users\\pierr\\Documents\\projets\\nt-challenge\\venv\\lib\\site-packages\\rasa\\shared\\utils\\io.py:99: UserWarning: Training data file  has a lower format version than your Rasa Open Source installation: 3.0 < 3.1. Rasa Open Source will read the file as a version 3.1 file. Please update your version key to 3.1. See https://rasa.com/docs/rasa/training-data-format.\n",
      "\u001b[0m"
     ]
    },
    {
     "data": {
      "text/plain": [
       "[<rasa.shared.nlu.training_data.message.Message at 0x25a887415b0>,\n",
       " <rasa.shared.nlu.training_data.message.Message at 0x25aaadb0580>,\n",
       " <rasa.shared.nlu.training_data.message.Message at 0x25aaadb0490>]"
      ]
     },
     "execution_count": 14,
     "metadata": {},
     "output_type": "execute_result"
    }
   ],
   "source": [
    "data = RasaYAMLReader().reads(Path('.data/nlu.yml').read_text('utf-8'))\n",
    "data.intent_examples"
   ]
  },
  {
   "cell_type": "code",
   "execution_count": 15,
   "id": "ede0f794",
   "metadata": {},
   "outputs": [],
   "source": [
    "data.lookup_tables[0]['elements'] = list(services)"
   ]
  },
  {
   "cell_type": "code",
   "execution_count": 16,
   "id": "7188ca6c",
   "metadata": {},
   "outputs": [],
   "source": [
    "data.lookup_tables[1]['elements'] = list([doc.split()[0] for doc in docs] + [doc for doc in docs])"
   ]
  },
  {
   "cell_type": "code",
   "execution_count": 17,
   "id": "a8a2d035",
   "metadata": {},
   "outputs": [],
   "source": [
    "data.training_examples.clear()"
   ]
  },
  {
   "cell_type": "code",
   "execution_count": 18,
   "id": "a44fa137",
   "metadata": {},
   "outputs": [],
   "source": [
    "service_rsents = list(service_sents)\n",
    "random.shuffle(service_rsents)"
   ]
  },
  {
   "cell_type": "code",
   "execution_count": 19,
   "id": "d7e3ac9d",
   "metadata": {},
   "outputs": [],
   "source": [
    "for sent in service_rsents[:10000]:\n",
    "    data.training_examples.append(parse_training_example(sent, 'contact_service'))"
   ]
  },
  {
   "cell_type": "code",
   "execution_count": 20,
   "id": "e43327cc",
   "metadata": {},
   "outputs": [],
   "source": [
    "doctor_rsents = list(doctor_sents)\n",
    "random.shuffle(doctor_rsents)"
   ]
  },
  {
   "cell_type": "code",
   "execution_count": 21,
   "id": "ea5d309f",
   "metadata": {},
   "outputs": [],
   "source": [
    "for sent in doctor_rsents[:10000]:\n",
    "    data.training_examples.append(parse_training_example(sent, 'contact_doctor'))"
   ]
  },
  {
   "cell_type": "code",
   "execution_count": 22,
   "id": "112af46b",
   "metadata": {},
   "outputs": [],
   "source": [
    "data.persist_nlu('data/nlu_0.yml')"
   ]
  }
 ],
 "metadata": {
  "kernelspec": {
   "display_name": "Python 3 (ipykernel)",
   "language": "python",
   "name": "python3"
  },
  "language_info": {
   "codemirror_mode": {
    "name": "ipython",
    "version": 3
   },
   "file_extension": ".py",
   "mimetype": "text/x-python",
   "name": "python",
   "nbconvert_exporter": "python",
   "pygments_lexer": "ipython3",
   "version": "3.8.10"
  }
 },
 "nbformat": 4,
 "nbformat_minor": 5
}
